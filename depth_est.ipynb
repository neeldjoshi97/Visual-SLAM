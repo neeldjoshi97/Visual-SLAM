{
  "nbformat": 4,
  "nbformat_minor": 0,
  "metadata": {
    "colab": {
      "provenance": []
    },
    "kernelspec": {
      "name": "python3",
      "display_name": "Python 3"
    },
    "language_info": {
      "name": "python"
    }
  },
  "cells": [
    {
      "cell_type": "code",
      "execution_count": 1,
      "metadata": {
        "colab": {
          "base_uri": "https://localhost:8080/"
        },
        "id": "CKNubB2WX_XP",
        "outputId": "dd928b98-e01c-49a3-90b4-b0d937be471b"
      },
      "outputs": [
        {
          "output_type": "stream",
          "name": "stdout",
          "text": [
            "Cloning into 'DROID-SLAM'...\n",
            "remote: Enumerating objects: 179, done.\u001b[K\n",
            "remote: Counting objects: 100% (87/87), done.\u001b[K\n",
            "remote: Compressing objects: 100% (53/53), done.\u001b[K\n",
            "remote: Total 179 (delta 45), reused 34 (delta 34), pack-reused 92\u001b[K\n",
            "Receiving objects: 100% (179/179), 2.67 MiB | 14.96 MiB/s, done.\n",
            "Resolving deltas: 100% (55/55), done.\n"
          ]
        }
      ],
      "source": [
        "!git clone https://github.com/princeton-vl/DROID-SLAM"
      ]
    },
    {
      "cell_type": "code",
      "source": [
        "!git clone https://github.com/isl-org/DPT"
      ],
      "metadata": {
        "colab": {
          "base_uri": "https://localhost:8080/"
        },
        "id": "n0SGK5xtYFRy",
        "outputId": "8307c9c5-040b-4c1a-91c2-2bd835df1af8"
      },
      "execution_count": 2,
      "outputs": [
        {
          "output_type": "stream",
          "name": "stdout",
          "text": [
            "Cloning into 'DPT'...\n",
            "remote: Enumerating objects: 776, done.\u001b[K\n",
            "remote: Counting objects: 100% (159/159), done.\u001b[K\n",
            "remote: Compressing objects: 100% (47/47), done.\u001b[K\n",
            "remote: Total 776 (delta 140), reused 112 (delta 112), pack-reused 617\u001b[K\n",
            "Receiving objects: 100% (776/776), 454.37 KiB | 10.10 MiB/s, done.\n",
            "Resolving deltas: 100% (369/369), done.\n"
          ]
        }
      ]
    },
    {
      "cell_type": "code",
      "source": [
        "cd DPT/"
      ],
      "metadata": {
        "colab": {
          "base_uri": "https://localhost:8080/"
        },
        "id": "2WwW2db6g6aD",
        "outputId": "0fb1e713-9722-4bba-c08e-b45fd128f963"
      },
      "execution_count": 3,
      "outputs": [
        {
          "output_type": "stream",
          "name": "stdout",
          "text": [
            "/content/DPT\n"
          ]
        }
      ]
    },
    {
      "cell_type": "code",
      "source": [
        "!ls"
      ],
      "metadata": {
        "colab": {
          "base_uri": "https://localhost:8080/"
        },
        "id": "Y3th7_wyg-b9",
        "outputId": "442c4a74-5ba8-41ce-c954-ecce8561f950"
      },
      "execution_count": 4,
      "outputs": [
        {
          "output_type": "stream",
          "name": "stdout",
          "text": [
            "dpt\t       LICENSE\t\t README.md\t   run_segmentation.py\tweights\n",
            "EVALUATION.md  output_monodepth  requirements.txt  setup.py\n",
            "input\t       output_semseg\t run_monodepth.py  util\n"
          ]
        }
      ]
    },
    {
      "cell_type": "code",
      "source": [
        "!pip install -r requirements.txt -q"
      ],
      "metadata": {
        "colab": {
          "base_uri": "https://localhost:8080/"
        },
        "id": "UGtVPNWUg_QD",
        "outputId": "caedd639-3751-426b-b15f-f21ef5b5cfc2"
      },
      "execution_count": 5,
      "outputs": [
        {
          "output_type": "stream",
          "name": "stdout",
          "text": [
            "\u001b[K     |████████████████████████████████| 804.1 MB 2.0 kB/s \n",
            "\u001b[K     |████████████████████████████████| 17.4 MB 603 kB/s \n",
            "\u001b[K     |████████████████████████████████| 51.0 MB 271 kB/s \n",
            "\u001b[K     |████████████████████████████████| 287 kB 56.1 MB/s \n",
            "\u001b[31mERROR: pip's dependency resolver does not currently take into account all the packages that are installed. This behaviour is the source of the following dependency conflicts.\n",
            "torchtext 0.13.1 requires torch==1.12.1, but you have torch 1.8.1 which is incompatible.\n",
            "torchaudio 0.12.1+cu113 requires torch==1.12.1, but you have torch 1.8.1 which is incompatible.\u001b[0m\n",
            "\u001b[?25h"
          ]
        }
      ]
    },
    {
      "cell_type": "code",
      "source": [
        "import os\n",
        "import shutil\n",
        "import matplotlib.pyplot as plt\n",
        "import matplotlib.image as img\n",
        "from PIL import Image"
      ],
      "metadata": {
        "id": "0ZD5tgG5hGl1"
      },
      "execution_count": 18,
      "outputs": []
    },
    {
      "cell_type": "code",
      "source": [
        "from google.colab import drive\n",
        "drive.mount('/content/drive')"
      ],
      "metadata": {
        "colab": {
          "base_uri": "https://localhost:8080/"
        },
        "id": "fP5i-W9_mZ3y",
        "outputId": "53bab366-75b8-458e-dc09-591a8c0737d0"
      },
      "execution_count": 11,
      "outputs": [
        {
          "output_type": "stream",
          "name": "stdout",
          "text": [
            "Mounted at /content/drive\n"
          ]
        }
      ]
    },
    {
      "cell_type": "code",
      "source": [
        "shutil.copy(\"/content/drive/MyDrive/vlr/dpt_hybrid-midas-501f0c75.pt\", \"/content/DPT/weights/dpt_hybrid-midas-501f0c75.pt\")"
      ],
      "metadata": {
        "colab": {
          "base_uri": "https://localhost:8080/",
          "height": 36
        },
        "id": "6jtlkM7TmeI5",
        "outputId": "d89fd715-b3f3-457b-a8e2-8d925b375e74"
      },
      "execution_count": 14,
      "outputs": [
        {
          "output_type": "execute_result",
          "data": {
            "text/plain": [
              "'/content/DPT/weights/dpt_hybrid-midas-501f0c75.pt'"
            ],
            "application/vnd.google.colaboratory.intrinsic+json": {
              "type": "string"
            }
          },
          "metadata": {},
          "execution_count": 14
        }
      ]
    },
    {
      "cell_type": "code",
      "source": [
        "!python run_monodepth.py"
      ],
      "metadata": {
        "colab": {
          "base_uri": "https://localhost:8080/"
        },
        "id": "6PeqQdRch3Xj",
        "outputId": "742a4d65-26ef-437d-a304-aa503f15af40"
      },
      "execution_count": 15,
      "outputs": [
        {
          "output_type": "stream",
          "name": "stdout",
          "text": [
            "initialize\n",
            "device: cpu\n",
            "start processing\n",
            "  processing input/download.png (1/1)\n",
            "/usr/local/lib/python3.7/dist-packages/torch/nn/functional.py:3458: UserWarning: Default upsampling behavior when mode=bilinear is changed to align_corners=False since 0.4.0. Please specify align_corners=True if the old behavior is desired. See the documentation of nn.Upsample for details.\n",
            "  \"See the documentation of nn.Upsample for details.\".format(mode)\n",
            "finished\n"
          ]
        }
      ]
    },
    {
      "cell_type": "code",
      "source": [
        "def show_image(root, img_path):\n",
        "  # root_dir = \"/content/data/rgbd_dataset_freiburg2_pioneer_slam/rgb/\"\n",
        "  # reading the image\n",
        "  testImage = img.imread(root+img_path)\n",
        "  # print(testImage.shape)    \n",
        "  # displaying the image\n",
        "  plt.imshow(testImage)\n",
        "  plt.title(img_path)\n",
        "  plt.show()\n",
        "  plt.clf()"
      ],
      "metadata": {
        "id": "rYc4j8MFiRYt"
      },
      "execution_count": 19,
      "outputs": []
    },
    {
      "cell_type": "code",
      "source": [
        "show_image(\"/content/DPT/output_monodepth/download.png\", \"\")"
      ],
      "metadata": {
        "colab": {
          "base_uri": "https://localhost:8080/",
          "height": 286
        },
        "id": "mN3J8wsPnGUW",
        "outputId": "c5c503d1-34ad-4e7b-ab67-ac12a3b15ba2"
      },
      "execution_count": 20,
      "outputs": [
        {
          "output_type": "display_data",
          "data": {
            "text/plain": [
              "<Figure size 432x288 with 1 Axes>"
            ],
            "image/png": "[encoded data removed]"
          },
          "metadata": {
            "needs_background": "light"
          }
        },
        {
          "output_type": "display_data",
          "data": {
            "text/plain": [
              "<Figure size 432x288 with 0 Axes>"
            ]
          },
          "metadata": {}
        }
      ]
    },
    {
      "cell_type": "code",
      "source": [],
      "metadata": {
        "id": "EgMb4zvrnUb_"
      },
      "execution_count": null,
      "outputs": []
    }
  ]
}