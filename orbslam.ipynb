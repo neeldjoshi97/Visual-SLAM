{
  "nbformat": 4,
  "nbformat_minor": 0,
  "metadata": {
    "colab": {
      "provenance": []
    },
    "kernelspec": {
      "name": "python3",
      "display_name": "Python 3"
    },
    "language_info": {
      "name": "python"
    }
  },
  "cells": [
    {
      "cell_type": "code",
      "execution_count": 1,
      "metadata": {
        "colab": {
          "base_uri": "https://localhost:8080/"
        },
        "id": "fFlvCWNx7Y_D",
        "outputId": "d3ff15ca-9245-4cec-bb43-9c53e7a97966"
      },
      "outputs": [
        {
          "output_type": "stream",
          "name": "stdout",
          "text": [
            "Cloning into 'ORB_SLAM2'...\n",
            "remote: Enumerating objects: 566, done.\u001b[K\n",
            "remote: Total 566 (delta 0), reused 0 (delta 0), pack-reused 566\u001b[K\n",
            "Receiving objects: 100% (566/566), 41.41 MiB | 31.55 MiB/s, done.\n",
            "Resolving deltas: 100% (182/182), done.\n"
          ]
        }
      ],
      "source": [
        "!git clone https://github.com/raulmur/ORB_SLAM2"
      ]
    },
    {
      "cell_type": "code",
      "source": [
        "!git clone https://github.com/jskinn/ORB_SLAM2-PythonBindings"
      ],
      "metadata": {
        "colab": {
          "base_uri": "https://localhost:8080/"
        },
        "id": "EFH_1t6O7cxR",
        "outputId": "2b94042b-0715-4bda-d01e-ac550ea0c3d2"
      },
      "execution_count": 2,
      "outputs": [
        {
          "output_type": "stream",
          "name": "stdout",
          "text": [
            "Cloning into 'ORB_SLAM2-PythonBindings'...\n",
            "remote: Enumerating objects: 196, done.\u001b[K\n",
            "remote: Counting objects: 100% (89/89), done.\u001b[K\n",
            "remote: Compressing objects: 100% (16/16), done.\u001b[K\n",
            "remote: Total 196 (delta 79), reused 73 (delta 73), pack-reused 107\u001b[K\n",
            "Receiving objects: 100% (196/196), 53.53 KiB | 3.57 MiB/s, done.\n",
            "Resolving deltas: 100% (107/107), done.\n"
          ]
        }
      ]
    },
    {
      "cell_type": "code",
      "source": [
        "cd ORB_SLAM2-PythonBindings"
      ],
      "metadata": {
        "colab": {
          "base_uri": "https://localhost:8080/"
        },
        "id": "YW5qfAsG92fr",
        "outputId": "ec5033e7-42fc-4f12-c45b-1ac3b6e19a69"
      },
      "execution_count": 9,
      "outputs": [
        {
          "output_type": "stream",
          "name": "stdout",
          "text": [
            "/content/ORB_SLAM2-PythonBindings\n"
          ]
        }
      ]
    },
    {
      "cell_type": "code",
      "source": [
        "import os\n",
        "os.listdir()"
      ],
      "metadata": {
        "colab": {
          "base_uri": "https://localhost:8080/"
        },
        "id": "bReHWoBJ-AOy",
        "outputId": "4cc23493-af95-47dc-fb81-4d6dd0008813"
      },
      "execution_count": 10,
      "outputs": [
        {
          "output_type": "execute_result",
          "data": {
            "text/plain": [
              "['orbslam-changes.diff',\n",
              " 'cmake_modules',\n",
              " '.git',\n",
              " 'tests',\n",
              " 'pyboostcvconverter-LICENSE',\n",
              " 'LICENSE',\n",
              " 'CMakeLists.txt',\n",
              " '.gitignore',\n",
              " 'src',\n",
              " 'README.md',\n",
              " 'examples']"
            ]
          },
          "metadata": {},
          "execution_count": 10
        }
      ]
    },
    {
      "cell_type": "code",
      "source": [
        "!mkdir build"
      ],
      "metadata": {
        "id": "SOfW2HAp7q9U"
      },
      "execution_count": 13,
      "outputs": []
    },
    {
      "cell_type": "code",
      "source": [
        "cd build"
      ],
      "metadata": {
        "colab": {
          "base_uri": "https://localhost:8080/"
        },
        "id": "pBTwHVbA9y6z",
        "outputId": "21516133-bbf2-4d6c-ff09-1e6276463372"
      },
      "execution_count": 16,
      "outputs": [
        {
          "output_type": "stream",
          "name": "stdout",
          "text": [
            "/content/ORB_SLAM2-PythonBindings/build\n"
          ]
        }
      ]
    },
    {
      "cell_type": "code",
      "source": [
        "os.listdir()"
      ],
      "metadata": {
        "colab": {
          "base_uri": "https://localhost:8080/"
        },
        "id": "pyeYSaXW-SEq",
        "outputId": "f4c6cc46-2312-4e36-d414-c73863b98aed"
      },
      "execution_count": 17,
      "outputs": [
        {
          "output_type": "execute_result",
          "data": {
            "text/plain": [
              "[]"
            ]
          },
          "metadata": {},
          "execution_count": 17
        }
      ]
    },
    {
      "cell_type": "code",
      "source": [
        "!cmake .."
      ],
      "metadata": {
        "colab": {
          "base_uri": "https://localhost:8080/"
        },
        "id": "7hupwKw3-ThI",
        "outputId": "f0d53774-d7e2-42dc-c6e5-d1b8bc9a6235"
      },
      "execution_count": 18,
      "outputs": [
        {
          "output_type": "stream",
          "name": "stdout",
          "text": [
            "\u001b[0mCMake Deprecation Warning at CMakeLists.txt:1 (cmake_minimum_required):\n",
            "  Compatibility with CMake < 2.8.12 will be removed from a future version of\n",
            "  CMake.\n",
            "\n",
            "  Update the VERSION argument <min> value or use a ...<max> suffix to tell\n",
            "  CMake that the project does not need compatibility with older versions.\n",
            "\n",
            "\u001b[0m\n",
            "-- The C compiler identification is GNU 7.5.0\n",
            "-- The CXX compiler identification is GNU 7.5.0\n",
            "-- Detecting C compiler ABI info\n",
            "-- Detecting C compiler ABI info - done\n",
            "-- Check for working C compiler: /usr/bin/cc - skipped\n",
            "-- Detecting C compile features\n",
            "-- Detecting C compile features - done\n",
            "-- Detecting CXX compiler ABI info\n",
            "-- Detecting CXX compiler ABI info - done\n",
            "-- Check for working CXX compiler: /usr/bin/c++ - skipped\n",
            "-- Detecting CXX compile features\n",
            "-- Detecting CXX compile features - done\n",
            "\u001b[0mBuild type: Release\u001b[0m\n",
            "-- Performing Test COMPILER_SUPPORTS_CXX11\n",
            "-- Performing Test COMPILER_SUPPORTS_CXX11 - Success\n",
            "-- Performing Test COMPILER_SUPPORTS_CXX0X\n",
            "-- Performing Test COMPILER_SUPPORTS_CXX0X - Success\n",
            "-- Using flag -std=c++11.\n",
            "-- Found PythonLibs: /usr/lib/x86_64-linux-gnu/libpython3.7m.so (found suitable version \"3.7.15\", minimum required is \"3.5\") \n",
            "\u001b[0mCMake Deprecation Warning at cmake_modules/FindNumPy.cmake:32 (cmake_minimum_required):\n",
            "  Compatibility with CMake < 2.8.12 will be removed from a future version of\n",
            "  CMake.\n",
            "\n",
            "  Update the VERSION argument <min> value or use a ...<max> suffix to tell\n",
            "  CMake that the project does not need compatibility with older versions.\n",
            "Call Stack (most recent call first):\n",
            "  CMakeLists.txt:32 (find_package)\n",
            "\n",
            "\u001b[0m\n",
            "-- Found PythonInterp: /usr/bin/python3.7 (found version \"3.7.15\") \n",
            "-- Found NumPy: /usr/local/lib/python3.7/dist-packages/numpy/core/include (found version \"1.21.6\") \n",
            "\u001b[33mCMake Warning at /usr/local/lib/python3.7/dist-packages/cmake/data/share/cmake-3.22/Modules/FindBoost.cmake:2216 (message):\n",
            "  No header defined for python-py35; skipping header check (note: header-only\n",
            "  libraries have no designated component)\n",
            "Call Stack (most recent call first):\n",
            "  CMakeLists.txt:33 (find_package)\n",
            "\n",
            "\u001b[0m\n",
            "\u001b[31mCMake Error at /usr/local/lib/python3.7/dist-packages/cmake/data/share/cmake-3.22/Modules/FindPackageHandleStandardArgs.cmake:230 (message):\n",
            "  Could NOT find Boost (missing: python-py35) (found suitable version\n",
            "  \"1.65.1\", minimum required is \"1.45.0\")\n",
            "Call Stack (most recent call first):\n",
            "  /usr/local/lib/python3.7/dist-packages/cmake/data/share/cmake-3.22/Modules/FindPackageHandleStandardArgs.cmake:594 (_FPHSA_FAILURE_MESSAGE)\n",
            "  /usr/local/lib/python3.7/dist-packages/cmake/data/share/cmake-3.22/Modules/FindBoost.cmake:2375 (find_package_handle_standard_args)\n",
            "  CMakeLists.txt:33 (find_package)\n",
            "\n",
            "\u001b[0m\n",
            "-- Configuring incomplete, errors occurred!\n",
            "See also \"/content/ORB_SLAM2-PythonBindings/build/CMakeFiles/CMakeOutput.log\".\n"
          ]
        }
      ]
    },
    {
      "cell_type": "code",
      "source": [
        "!make\n",
        "!make install"
      ],
      "metadata": {
        "id": "-TkRn4x--Ynl"
      },
      "execution_count": null,
      "outputs": []
    }
  ]
}